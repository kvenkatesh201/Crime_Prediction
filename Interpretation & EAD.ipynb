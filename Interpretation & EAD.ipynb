{
 "cells": [
  {
   "cell_type": "code",
   "execution_count": 1,
   "metadata": {
    "collapsed": true
   },
   "outputs": [],
   "source": [
    "import pandas as pd\n",
    "import numpy as np \n",
    "import string"
   ]
  },
  {
   "cell_type": "code",
   "execution_count": 2,
   "metadata": {
    "collapsed": true
   },
   "outputs": [],
   "source": [
    "import matplotlib.pyplot as plt\n",
    "import matplotlib.cm as cm"
   ]
  },
  {
   "cell_type": "code",
   "execution_count": 3,
   "metadata": {
    "collapsed": true
   },
   "outputs": [],
   "source": [
    "plt.style.use('ggplot')"
   ]
  },
  {
   "cell_type": "code",
   "execution_count": 4,
   "metadata": {
    "collapsed": true
   },
   "outputs": [],
   "source": [
    "df = pd.read_csv('train.csv', header=0)"
   ]
  },
  {
   "cell_type": "code",
   "execution_count": 5,
   "metadata": {
    "collapsed": true
   },
   "outputs": [],
   "source": [
    "df= df.drop(['Descript','X','Y'], axis=1)"
   ]
  },
  {
   "cell_type": "code",
   "execution_count": 6,
   "metadata": {
    "collapsed": true
   },
   "outputs": [],
   "source": [
    "tmp= pd.DataFrame(df.Dates.str.split().tolist(), columns=\"date time\".split())"
   ]
  },
  {
   "cell_type": "code",
   "execution_count": 7,
   "metadata": {
    "collapsed": true
   },
   "outputs": [],
   "source": [
    "df['Hour']= tmp.apply(lambda row: row['time'].split(':')[0], axis=1)"
   ]
  },
  {
   "cell_type": "code",
   "execution_count": 8,
   "metadata": {
    "collapsed": true
   },
   "outputs": [],
   "source": [
    "df= df.drop(['Dates'], axis=1)"
   ]
  },
  {
   "cell_type": "code",
   "execution_count": 9,
   "metadata": {
    "collapsed": true
   },
   "outputs": [],
   "source": [
    "df.Cat= df.Category.astype('category')"
   ]
  },
  {
   "cell_type": "code",
   "execution_count": 10,
   "metadata": {
    "collapsed": true
   },
   "outputs": [],
   "source": [
    "cat_dict= dict(zip(df.Cat.cat.categories, range(len(df.Cat.cat.codes))))"
   ]
  },
  {
   "cell_type": "code",
   "execution_count": 11,
   "metadata": {
    "collapsed": true
   },
   "outputs": [],
   "source": [
    "df.dist= df.PdDistrict.astype('category')\n",
    "dist_dict= dict(zip(df.dist.cat.categories, range(len(df.dist.cat.codes))))"
   ]
  },
  {
   "cell_type": "code",
   "execution_count": 12,
   "metadata": {
    "collapsed": true
   },
   "outputs": [],
   "source": [
    "cat_dist= pd.pivot_table(df, index=\"Category\", columns=\"PdDistrict\", values=\"DayOfWeek\", aggfunc=\"count\")"
   ]
  },
  {
   "cell_type": "code",
   "execution_count": 13,
   "metadata": {
    "collapsed": true
   },
   "outputs": [],
   "source": [
    "cplot= cat_dist.plot(kind='barh', figsize=(30,15), grid=0, colormap=cm.rainbow, stacked= True)\n",
    "plt.savefig(\"stackedBar3\",ext=\"png\", transparent=0)"
   ]
  },
  {
   "cell_type": "code",
   "execution_count": 14,
   "metadata": {
    "collapsed": true
   },
   "outputs": [],
   "source": [
    "#Import and preparation of data\n",
    "\n",
    "import zipfile\n",
    "import matplotlib.pyplot as plt\n",
    "import datetime as df\n",
    "import time"
   ]
  },
  {
   "cell_type": "code",
   "execution_count": 15,
   "metadata": {
    "collapsed": true
   },
   "outputs": [],
   "source": [
    "z_train = zipfile.ZipFile('train.csv.zip')\n",
    "z_test  = zipfile.ZipFile('test.csv.zip')\n",
    "train = pd.read_csv(z_train.open('train.csv'), parse_dates=['Dates'])\n",
    "test  = pd.read_csv(z_test.open('test.csv'),   parse_dates=['Dates'])"
   ]
  },
  {
   "cell_type": "code",
   "execution_count": 16,
   "metadata": {
    "collapsed": true
   },
   "outputs": [],
   "source": [
    "#Add day of the year format 02-22\n",
    "train['DayOfYear'] = train['Dates'].map(lambda x: x.strftime(\"%m-%d\"))\n",
    "test['DayOfYear']  = test['Dates'].map( lambda x: x.strftime(\"%m-%d\"))"
   ]
  },
  {
   "cell_type": "code",
   "execution_count": 17,
   "metadata": {
    "collapsed": true
   },
   "outputs": [],
   "source": [
    "train_days = train[[\"X\", \"DayOfYear\"]].groupby(['DayOfYear']).count().rename(columns={\"X\": \"TrainCount\"})\n",
    "test_days  = test[ [\"X\", \"DayOfYear\"]].groupby(['DayOfYear']).count().rename(columns={\"X\": \"TestCount\"})"
   ]
  },
  {
   "cell_type": "code",
   "execution_count": 18,
   "metadata": {
    "collapsed": true
   },
   "outputs": [],
   "source": [
    "days = train_days.merge(test_days, left_index=True, right_index=True)\n",
    "days[\"TotalCount\"] = days[\"TrainCount\"] + days[\"TestCount\"]"
   ]
  },
  {
   "cell_type": "code",
   "execution_count": 19,
   "metadata": {
    "collapsed": true
   },
   "outputs": [],
   "source": [
    "days.plot(figsize=(15,10)) \n",
    "plt.title(\"The two peaks per month pattern is entirely explained by splitting the data into train/test sets\")\n",
    "plt.ylabel('Number of crimes')\n",
    "plt.xlabel('Day of year')\n",
    "plt.grid(True)"
   ]
  },
  {
   "cell_type": "code",
   "execution_count": 20,
   "metadata": {
    "collapsed": true
   },
   "outputs": [],
   "source": [
    "plt.savefig('Distribution_of_Crimes_by_DayofYear.png')"
   ]
  },
  {
   "cell_type": "code",
   "execution_count": 21,
   "metadata": {
    "collapsed": true
   },
   "outputs": [],
   "source": [
    "#EAD"
   ]
  },
  {
   "cell_type": "code",
   "execution_count": 22,
   "metadata": {
    "collapsed": false
   },
   "outputs": [
    {
     "name": "stdout",
     "output_type": "stream",
     "text": [
      "['train.csv']\n"
     ]
    }
   ],
   "source": [
    "z = zipfile.ZipFile('train.csv.zip')\n",
    "print(z.namelist())"
   ]
  },
  {
   "cell_type": "code",
   "execution_count": 23,
   "metadata": {
    "collapsed": true
   },
   "outputs": [],
   "source": [
    "train = pd.read_csv(z.open('train.csv'), parse_dates=['Dates'])"
   ]
  },
  {
   "cell_type": "code",
   "execution_count": 24,
   "metadata": {
    "collapsed": true
   },
   "outputs": [],
   "source": [
    "train['Year'] = train['Dates'].map(lambda x: x.year)\n",
    "train['Week'] = train['Dates'].map(lambda x: x.week)\n",
    "train['Hour'] = train['Dates'].map(lambda x: x.hour)\n"
   ]
  },
  {
   "cell_type": "code",
   "execution_count": 25,
   "metadata": {
    "collapsed": false
   },
   "outputs": [
    {
     "name": "stdout",
     "output_type": "stream",
     "text": [
      "                Dates        Category                      Descript  \\\n",
      "0 2015-05-13 23:53:00        WARRANTS                WARRANT ARREST   \n",
      "1 2015-05-13 23:53:00  OTHER OFFENSES      TRAFFIC VIOLATION ARREST   \n",
      "2 2015-05-13 23:33:00  OTHER OFFENSES      TRAFFIC VIOLATION ARREST   \n",
      "3 2015-05-13 23:30:00   LARCENY/THEFT  GRAND THEFT FROM LOCKED AUTO   \n",
      "4 2015-05-13 23:30:00   LARCENY/THEFT  GRAND THEFT FROM LOCKED AUTO   \n",
      "\n",
      "   DayOfWeek PdDistrict      Resolution                    Address  \\\n",
      "0  Wednesday   NORTHERN  ARREST, BOOKED         OAK ST / LAGUNA ST   \n",
      "1  Wednesday   NORTHERN  ARREST, BOOKED         OAK ST / LAGUNA ST   \n",
      "2  Wednesday   NORTHERN  ARREST, BOOKED  VANNESS AV / GREENWICH ST   \n",
      "3  Wednesday   NORTHERN            NONE   1500 Block of LOMBARD ST   \n",
      "4  Wednesday       PARK            NONE  100 Block of BRODERICK ST   \n",
      "\n",
      "            X          Y  Year  Week  Hour  \n",
      "0 -122.425892  37.774599  2015    20    23  \n",
      "1 -122.425892  37.774599  2015    20    23  \n",
      "2 -122.424363  37.800414  2015    20    23  \n",
      "3 -122.426995  37.800873  2015    20    23  \n",
      "4 -122.438738  37.771541  2015    20    23  \n"
     ]
    }
   ],
   "source": [
    "print(train.head())"
   ]
  },
  {
   "cell_type": "code",
   "execution_count": 26,
   "metadata": {
    "collapsed": true
   },
   "outputs": [],
   "source": [
    "train.PdDistrict.value_counts().plot(kind='bar', figsize=(8,10))\n",
    "plt.savefig('district_counts.png')"
   ]
  },
  {
   "cell_type": "code",
   "execution_count": 27,
   "metadata": {
    "collapsed": true
   },
   "outputs": [],
   "source": [
    "train['event']=1\n",
    "weekly_events = train[['Week','Year','event']].groupby(['Year','Week']).count().reset_index()\n",
    "weekly_events_years = weekly_events.pivot(index='Week', columns='Year', values='event').fillna(method='ffill')\n",
    "#%matplotlib inline\n",
    "ax = weekly_events_years.interpolate().plot(title='number of cases every 2 weeks', figsize=(10,6))\n",
    "plt.savefig('events_every_two_weeks.png')"
   ]
  },
  {
   "cell_type": "code",
   "execution_count": 28,
   "metadata": {
    "collapsed": true
   },
   "outputs": [],
   "source": [
    "hourly_events = train[['Hour','event']].groupby(['Hour']).count().reset_index()\n",
    "hourly_events.plot(kind='bar', figsize=(6, 6))\n",
    "plt.savefig('hourly_events.png')"
   ]
  },
  {
   "cell_type": "code",
   "execution_count": 29,
   "metadata": {
    "collapsed": true
   },
   "outputs": [],
   "source": [
    "hourly_district_events = train[['PdDistrict','Hour','event']].groupby(['PdDistrict','Hour']).count().reset_index()\n",
    "hourly_district_events_pivot = hourly_district_events.pivot(index='Hour', columns='PdDistrict', values='event').fillna(method='ffill')\n",
    "hourly_district_events_pivot.interpolate().plot(title='number of cases hourly by district', figsize=(10,6))\n",
    "plt.savefig('hourly_events_by_district.png')"
   ]
  },
  {
   "cell_type": "code",
   "execution_count": null,
   "metadata": {
    "collapsed": true
   },
   "outputs": [],
   "source": []
  }
 ],
 "metadata": {
  "kernelspec": {
   "display_name": "Python 2",
   "language": "python",
   "name": "python2"
  },
  "language_info": {
   "codemirror_mode": {
    "name": "ipython",
    "version": 2
   },
   "file_extension": ".py",
   "mimetype": "text/x-python",
   "name": "python",
   "nbconvert_exporter": "python",
   "pygments_lexer": "ipython2",
   "version": "2.7.10"
  }
 },
 "nbformat": 4,
 "nbformat_minor": 0
}
